{
 "cells": [
  {
   "cell_type": "markdown",
   "id": "6932909b-8acb-47e7-88fb-7695f26e170d",
   "metadata": {},
   "source": [
    "Dowload data from wandb"
   ]
  },
  {
   "cell_type": "code",
   "execution_count": null,
   "id": "1adc405a-7e17-4c65-911f-d8cc314e5e7e",
   "metadata": {
    "tags": []
   },
   "outputs": [],
   "source": [
    "import pandas as pd\n",
    "import matplotlib.pyplot as plt"
   ]
  },
  {
   "cell_type": "code",
   "execution_count": null,
   "id": "0d5dcabd-360c-425d-8731-5faa2e73cc1c",
   "metadata": {
    "tags": []
   },
   "outputs": [],
   "source": [
    "!ls ../data"
   ]
  },
  {
   "cell_type": "code",
   "execution_count": null,
   "id": "fbcd5c75-42ea-431b-bbdf-3c707406c55f",
   "metadata": {
    "tags": []
   },
   "outputs": [],
   "source": [
    "neat_config = pd.read_csv('../data/wandb_export_2023-03-25T14_58_49.117+01_00.csv')\n",
    "mean_fitness = pd.read_csv('../data/wandb_export_2023-03-25T15_00_38.546+01_00.csv').rename(columns={\n",
    "    'gentle-smoke-2 - mean_fitness': 'Mean fitness',\n",
    "    'Step': 'Iteration'\n",
    "}).drop(columns=['gentle-smoke-2 - mean_fitness__MAX', 'gentle-smoke-2 - mean_fitness__MIN'])\n",
    "best_fitness = pd.read_csv('../data/wandb_export_2023-03-25T15_00_55.667+01_00.csv').rename(columns={\n",
    "    'gentle-smoke-2 - best_fitness': 'Best fitness',\n",
    "    'Step': 'Iteration'\n",
    "}).drop(columns=['gentle-smoke-2 - best_fitness__MAX', 'gentle-smoke-2 - best_fitness__MIN'])\n",
    "std_fitness = pd.read_csv('../data/wandb_export_2023-03-25T15_00_43.875+01_00.csv').rename(columns={\n",
    "    'gentle-smoke-2 - std_fitness': 'Stdev fitness',\n",
    "    'Step': 'Iteration'\n",
    "}).drop(columns=['gentle-smoke-2 - std_fitness__MAX', 'gentle-smoke-2 - std_fitness__MIN'])\n",
    "median_fitness = pd.read_csv('../data/wandb_export_2023-03-25T15_01_11.824+01_00.csv').rename(columns={\n",
    "    'gentle-smoke-2 - median_fitness': 'Median fitness',\n",
    "    'Step': 'Iteration'\n",
    "}).drop(columns=['gentle-smoke-2 - median_fitness__MAX', 'gentle-smoke-2 - median_fitness__MIN'])\n",
    "nodes_number = pd.read_csv('../data/wandb_export_2023-03-25T15_00_48.526+01_00.csv').rename(columns={\n",
    "    'gentle-smoke-2 - nodes_number': 'Nodes number',\n",
    "    'Step': 'Iteration'\n",
    "}).drop(columns=['gentle-smoke-2 - nodes_number__MAX', 'gentle-smoke-2 - nodes_number__MIN'])\n",
    "enabled_connections_number = pd.read_csv('../data/wandb_export_2023-03-25T15_01_00.220+01_00.csv').rename(columns={\n",
    "    'gentle-smoke-2 - enabled_connections_number': 'Enabled connections',\n",
    "    'Step': 'Iteration'\n",
    "}).drop(columns=['gentle-smoke-2 - enabled_connections_number__MAX', 'gentle-smoke-2 - enabled_connections_number__MIN'])\n",
    "connections_number = pd.read_csv('../data/wandb_export_2023-03-25T15_01_04.543+01_00.csv').rename(columns={\n",
    "    'gentle-smoke-2 - connections_number': 'Connections number',\n",
    "    'Step': 'Iteration'\n",
    "}).drop(columns=['gentle-smoke-2 - connections_number__MAX', 'gentle-smoke-2 - connections_number__MIN'])"
   ]
  },
  {
   "cell_type": "code",
   "execution_count": null,
   "id": "651ff0a6-60dc-4f9d-868a-cc6381fd41a1",
   "metadata": {
    "tags": []
   },
   "outputs": [],
   "source": [
    "fitness = mean_fitness.merge(best_fitness).merge(std_fitness)\n",
    "node_stats = nodes_number.merge(enabled_connections_number).merge(connections_number)"
   ]
  },
  {
   "cell_type": "code",
   "execution_count": null,
   "id": "867eff06-be78-4d58-952e-6fe6745e1e16",
   "metadata": {
    "tags": []
   },
   "outputs": [],
   "source": [
    "fig, ax = plt.subplots(1)\n",
    "#ax2 = ax.twinx()\n",
    "ax.plot(fitness.Iteration, fitness[\"Best fitness\"], label='Best fitness')\n",
    "ax.plot(fitness.Iteration, fitness[\"Mean fitness\"], label='Average fitness', color='orange')\n",
    "ax.fill_between(\n",
    "    fitness.Iteration,\n",
    "    fitness[\"Mean fitness\"] - fitness[\"Stdev fitness\"],\n",
    "    fitness[\"Mean fitness\"] + fitness[\"Stdev fitness\"],\n",
    "    color='orange',\n",
    "    alpha=0.3\n",
    ")\n",
    "ax.axhline(y = 200, color = 'g', linestyle = '-', label=\"Valid solution threshold\")\n",
    "ax.set_xlabel(\"Iteration\")\n",
    "ax.set_ylabel(\"Fitness\")\n",
    "ax.spines['right'].set_visible(False)\n",
    "ax.spines['left'].set_visible(False)\n",
    "ax.set_ylim([-400, 300])\n",
    "#ax2.set_ylabel(\"Average fitness\")\n",
    "fig.suptitle(\"Fitness over iterations\")\n",
    "fig.legend()\n",
    "fig.savefig(\"../assets/images/fitness_over_iterations_lunar_lander_neat.pdf\", bbox_inches='tight')\n",
    "plt.show()"
   ]
  },
  {
   "cell_type": "code",
   "execution_count": null,
   "id": "abae0064-506b-400d-aa4b-9d8f2cc8bbe4",
   "metadata": {
    "tags": []
   },
   "outputs": [],
   "source": [
    "node_stats"
   ]
  },
  {
   "cell_type": "code",
   "execution_count": null,
   "id": "a3345e20-f730-48cc-a751-f6b5e9d8c358",
   "metadata": {},
   "outputs": [],
   "source": []
  }
 ],
 "metadata": {
  "kernelspec": {
   "display_name": "Python 3 (ipykernel)",
   "language": "python",
   "name": "python3"
  },
  "language_info": {
   "codemirror_mode": {
    "name": "ipython",
    "version": 3
   },
   "file_extension": ".py",
   "mimetype": "text/x-python",
   "name": "python",
   "nbconvert_exporter": "python",
   "pygments_lexer": "ipython3",
   "version": "3.9.9"
  }
 },
 "nbformat": 4,
 "nbformat_minor": 5
}
